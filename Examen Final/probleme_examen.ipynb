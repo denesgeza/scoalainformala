{
 "cells": [
  {
   "cell_type": "code",
   "execution_count": 1,
   "metadata": {},
   "outputs": [
    {
     "name": "stdout",
     "output_type": "stream",
     "text": [
      "['ab', 'cd', 'de']\n"
     ]
    }
   ],
   "source": [
    "x = ['ab', 'cd', 'de']\n",
    "for i in x:\n",
    "    i.title()\n",
    "\n",
    "\n",
    "print(x)"
   ]
  },
  {
   "cell_type": "code",
   "execution_count": 7,
   "metadata": {},
   "outputs": [
    {
     "name": "stdout",
     "output_type": "stream",
     "text": [
      "52\n",
      "60\n",
      "Lista este:  [11, 7, 27, 42]\n"
     ]
    }
   ],
   "source": [
    "lista1 = [11, 7, 27, 52, 42, 60]\n",
    "for item in lista1:\n",
    "    if item % 2 == 0:\n",
    "        print(item)\n",
    "        lista1.remove(item)\n",
    "print('Lista este: ', lista1)"
   ]
  },
  {
   "cell_type": "code",
   "execution_count": 3,
   "metadata": {},
   "outputs": [
    {
     "name": "stdout",
     "output_type": "stream",
     "text": [
      "2\n"
     ]
    }
   ],
   "source": [
    "i = 2\n",
    "while True:\n",
    "    if i // 3:\n",
    "        break\n",
    "    print(i)\n",
    "    i += 3"
   ]
  }
 ],
 "metadata": {
  "interpreter": {
   "hash": "6cb63238821363c995c683f2714c526d33f15d7b803a4929e15b16c5e459c2b2"
  },
  "kernelspec": {
   "display_name": "Python 3.10.0 ('data-science')",
   "language": "python",
   "name": "python3"
  },
  "language_info": {
   "codemirror_mode": {
    "name": "ipython",
    "version": 3
   },
   "file_extension": ".py",
   "mimetype": "text/x-python",
   "name": "python",
   "nbconvert_exporter": "python",
   "pygments_lexer": "ipython3",
   "version": "3.10.0"
  },
  "orig_nbformat": 4
 },
 "nbformat": 4,
 "nbformat_minor": 2
}
