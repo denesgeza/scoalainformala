{
 "cells": [
  {
   "cell_type": "markdown",
   "source": [
    "# Tema 2\n",
    "## Imports"
   ],
   "metadata": {
    "collapsed": false,
    "pycharm": {
     "name": "#%% md\n"
    }
   }
  },
  {
   "cell_type": "code",
   "execution_count": 1,
   "outputs": [],
   "source": [
    "import pandas as pd\n",
    "import matplotlib.pyplot as plt"
   ],
   "metadata": {
    "collapsed": false,
    "pycharm": {
     "name": "#%%\n"
    }
   }
  },
  {
   "cell_type": "markdown",
   "source": [
    "## Load and Prepare Data"
   ],
   "metadata": {
    "collapsed": false,
    "pycharm": {
     "name": "#%% md\n"
    }
   }
  },
  {
   "cell_type": "code",
   "execution_count": 2,
   "outputs": [],
   "source": [
    "description = ('Country', ['2011 ', '2012 ', '2013 ', '2014 ', '2015 ', '2016 ', '2017', '2018 ', '2019 '])\n",
    "dataset = [\n",
    "    ('AL', [': ', ': ', ': ', ': ', ': ', ': ', ': ', '84 ', ':']),\n",
    "    ('AT', ['75 ', '79 ', '81 ', '81 ', '82 ', '85 ', '89 ', '89 ', '90 ']),\n",
    "    ('BA', [': ', ': ', ': ', ': ', ': ', ': ', ': ', '69 ', '72 ']),\n",
    "    ('BE', ['77 ', '78 ', '80 ', '83 ', '82 ', '85 ', '86 ', '87 ', '90 ']),\n",
    "    ('BG', ['45 ', '51 ', '54 ', '57 ', '59 ', '64 ', '67 ', '72 ', '75 ']),\n",
    "    ('CH', [': ', ': ', ': ', '91 ', ': ', ': ', '93 b', ': ', '96 ']),\n",
    "    ('CY', ['57 ', '62 ', '65 ', '69 ', '71 ', '74 ', '79 ', '86 ', '90 ']),\n",
    "    ('CZ', ['67 ', '73 ', '73 ', '78 ', '79 ', '82 ', '83 ', '86 ', '87 ']),\n",
    "    ('DE', ['83 ', '85 ', '88 ', '89 ', '90 ', '92 ', '93 ', '94 ', '95 ']),\n",
    "    ('DK', ['90 ', '92 ', '93 ', '93 ', '92 ', '94 ', '97 ', '93 ', '95 ']),\n",
    "    ('EA', ['74 ', '76 ', '79 ', '81 ', '83 ', '85 ', '87 ', '89 ', '90 ']),\n",
    "    ('EE', ['69 ', '74 ', '79 ', '83 ', '88 ', '86 ', '88 ', '90 ', '90 ']),\n",
    "    ('EL', ['50 ', '54 ', '56 ', '66 ', '68 ', '69 ', '71 ', '76 ', '79 ']),\n",
    "    ('ES', ['63 ', '67 ', '70 ', '74 ', '79 ', '82 ', '83 ', '86 ', '91 ']),\n",
    "    ('FI', ['84 ', '87 ', '89 ', '90 ', '90 ', '92 ', '94 ', '94 ', '94 ']),\n",
    "    ('FR', ['76 ', '80 ', '82 ', '83 ', '83 ', '86 ', '86 ', '89 ', '90 ']),\n",
    "    ('HR', ['61 ', '66 ', '65 ', '68 ', '77 ', '77 ', '76 ', '82 ', '81 ']),\n",
    "    ('HU', ['63 ', '67 ', '70 ', '73 ', '76 ', '79 ', '82 ', '83 ', '86 ']),\n",
    "    ('IE', ['78 ', '81 ', '82 ', '82 ', '85 ', '87 ', '88 ', '89 ', '91 ']),\n",
    "    ('IS', ['93 ', '95 ', '96 ', '96 ', ': ', ': ', '98 ', '99', '98 ']),\n",
    "    ('IT', ['62 ', '63 ', '69 ', '73 ', '75 ', '79 ', '81 ', '84 ', '85 ']),\n",
    "    ('LT', ['60 ', '60 ', '65 ', '66 ', '68 ', '72 ', '75 ', '78 ', '82 ']),\n",
    "    ('LU', ['91 ', '93 ', '94 ', '96 ', '97 ', '97 ', '97 ', '93 b', '95 ']),\n",
    "    ('LV', ['64 ', '69 ', '72 ', '73 ', '76 ', '77 b', '79 ', '82 ', '85 ']),\n",
    "    ('ME', [': ', '55 ', ': ', ': ', ': ', ': ', '71 ', '72 ', '74 ']),\n",
    "    ('MK', [': ', '58 ', '65 ', '68 ', '69 ', '75 ', '74 ', '79 ', '82 ']),\n",
    "    ('MT', ['75 ', '77 ', '78 ', '80 ', '81 ', '81 ', '85 ', '84 ', '86 ']),\n",
    "    ('NL', ['94 ', '94 ', '95 ', '96 ', '96 ', '97 ', '98 ', '98 ', '98 ']),\n",
    "    ('NO', ['92 ', '93 ', '94 ', '93 ', '97 ', '97 ', '97 ', '96 ', '98 ']),\n",
    "    ('PL', ['67 ', '70 ', '72 ', '75 ', '76 ', '80 ', '82 ', '84 ', '87 ']),\n",
    "    ('PT', ['58 ', '61 ', '62 ', '65 ', '70 ', '74 ', '77 ', '79 ', '81 ']),\n",
    "    ('RO', ['47 ', '54 ', '58 ', '61 b', '68 ', '72 ', '76 ', '81 ', '84 ']),\n",
    "    ('RS', [': ', ': ', ': ', ': ', '64 ', ': ', '68 ', '73 ', '80 ']),\n",
    "    ('SE', ['91 ', '92 ', '93 ', '90 ', '91 ', '94 b', '95 ', '93 ', '96 ']),\n",
    "    ('SI', ['73 ', '74 ', '76 ', '77 ', '78 ', '78 ', '82 ', '87 ', '89 ']),\n",
    "    ('SK', ['71 ', '75 ', '78 ', '78 ', '79 ', '81 ', '81 ', '81 ', '82 ']),\n",
    "    ('TR', [': ', '47 ', '49 ', '60 ', '70 ', '76 ', '81 ', '84 ', '88 ']),\n",
    "    ('UK', ['83 ', '87 ', '88 ', '90 ', '91 ', '93 ', '94 ', '95 ', '96 ']),\n",
    "    ('XK', [': ', ': ', ': ', ': ', ': ', ': ', '89 ', '93 ', '93 ']),\n",
    "]"
   ],
   "metadata": {
    "collapsed": false,
    "pycharm": {
     "name": "#%%\n"
    }
   }
  },
  {
   "cell_type": "code",
   "execution_count": 40,
   "outputs": [
    {
     "ename": "TypeError",
     "evalue": "int() argument must be a string, a bytes-like object or a number, not 'list'",
     "output_type": "error",
     "traceback": [
      "\u001B[0;31m---------------------------------------------------------------------------\u001B[0m",
      "\u001B[0;31mTypeError\u001B[0m                                 Traceback (most recent call last)",
      "\u001B[0;32m/var/folders/zd/npy23yh91tn4rlqbcjhm7m7r0000gn/T/ipykernel_35485/4266434788.py\u001B[0m in \u001B[0;36m<module>\u001B[0;34m\u001B[0m\n\u001B[1;32m      1\u001B[0m \u001B[0mcountries\u001B[0m \u001B[0;34m=\u001B[0m \u001B[0;34m[\u001B[0m\u001B[0mi\u001B[0m\u001B[0;34m[\u001B[0m\u001B[0;36m0\u001B[0m\u001B[0;34m]\u001B[0m \u001B[0;32mfor\u001B[0m \u001B[0mi\u001B[0m \u001B[0;32min\u001B[0m \u001B[0mdataset\u001B[0m\u001B[0;34m]\u001B[0m\u001B[0;34m\u001B[0m\u001B[0;34m\u001B[0m\u001B[0m\n\u001B[1;32m      2\u001B[0m \u001B[0myears\u001B[0m \u001B[0;34m=\u001B[0m \u001B[0;34m[\u001B[0m\u001B[0mint\u001B[0m\u001B[0;34m(\u001B[0m\u001B[0mi\u001B[0m\u001B[0;34m.\u001B[0m\u001B[0mstrip\u001B[0m\u001B[0;34m(\u001B[0m\u001B[0;34m)\u001B[0m\u001B[0;34m)\u001B[0m \u001B[0;32mfor\u001B[0m \u001B[0mi\u001B[0m \u001B[0;32min\u001B[0m \u001B[0mdescription\u001B[0m\u001B[0;34m[\u001B[0m\u001B[0;36m1\u001B[0m\u001B[0;34m]\u001B[0m\u001B[0;34m]\u001B[0m\u001B[0;34m\u001B[0m\u001B[0;34m\u001B[0m\u001B[0m\n\u001B[0;32m----> 3\u001B[0;31m \u001B[0mcoverage\u001B[0m \u001B[0;34m=\u001B[0m \u001B[0;34m[\u001B[0m\u001B[0mint\u001B[0m\u001B[0;34m(\u001B[0m\u001B[0mi\u001B[0m\u001B[0;34m[\u001B[0m\u001B[0;36m1\u001B[0m\u001B[0;34m]\u001B[0m\u001B[0;34m)\u001B[0m \u001B[0;32mfor\u001B[0m \u001B[0mi\u001B[0m \u001B[0;32min\u001B[0m \u001B[0mdataset\u001B[0m\u001B[0;34m]\u001B[0m\u001B[0;34m\u001B[0m\u001B[0;34m\u001B[0m\u001B[0m\n\u001B[0m",
      "\u001B[0;32m/var/folders/zd/npy23yh91tn4rlqbcjhm7m7r0000gn/T/ipykernel_35485/4266434788.py\u001B[0m in \u001B[0;36m<listcomp>\u001B[0;34m(.0)\u001B[0m\n\u001B[1;32m      1\u001B[0m \u001B[0mcountries\u001B[0m \u001B[0;34m=\u001B[0m \u001B[0;34m[\u001B[0m\u001B[0mi\u001B[0m\u001B[0;34m[\u001B[0m\u001B[0;36m0\u001B[0m\u001B[0;34m]\u001B[0m \u001B[0;32mfor\u001B[0m \u001B[0mi\u001B[0m \u001B[0;32min\u001B[0m \u001B[0mdataset\u001B[0m\u001B[0;34m]\u001B[0m\u001B[0;34m\u001B[0m\u001B[0;34m\u001B[0m\u001B[0m\n\u001B[1;32m      2\u001B[0m \u001B[0myears\u001B[0m \u001B[0;34m=\u001B[0m \u001B[0;34m[\u001B[0m\u001B[0mint\u001B[0m\u001B[0;34m(\u001B[0m\u001B[0mi\u001B[0m\u001B[0;34m.\u001B[0m\u001B[0mstrip\u001B[0m\u001B[0;34m(\u001B[0m\u001B[0;34m)\u001B[0m\u001B[0;34m)\u001B[0m \u001B[0;32mfor\u001B[0m \u001B[0mi\u001B[0m \u001B[0;32min\u001B[0m \u001B[0mdescription\u001B[0m\u001B[0;34m[\u001B[0m\u001B[0;36m1\u001B[0m\u001B[0;34m]\u001B[0m\u001B[0;34m]\u001B[0m\u001B[0;34m\u001B[0m\u001B[0;34m\u001B[0m\u001B[0m\n\u001B[0;32m----> 3\u001B[0;31m \u001B[0mcoverage\u001B[0m \u001B[0;34m=\u001B[0m \u001B[0;34m[\u001B[0m\u001B[0mint\u001B[0m\u001B[0;34m(\u001B[0m\u001B[0mi\u001B[0m\u001B[0;34m[\u001B[0m\u001B[0;36m1\u001B[0m\u001B[0;34m]\u001B[0m\u001B[0;34m)\u001B[0m \u001B[0;32mfor\u001B[0m \u001B[0mi\u001B[0m \u001B[0;32min\u001B[0m \u001B[0mdataset\u001B[0m\u001B[0;34m]\u001B[0m\u001B[0;34m\u001B[0m\u001B[0;34m\u001B[0m\u001B[0m\n\u001B[0m",
      "\u001B[0;31mTypeError\u001B[0m: int() argument must be a string, a bytes-like object or a number, not 'list'"
     ]
    }
   ],
   "source": [
    "countries = [i[0] for i in dataset]\n",
    "years = [int(i.strip()) for i in description[1]]\n",
    "coverage = [int(i[1]) for i in dataset]"
   ],
   "metadata": {
    "collapsed": false,
    "pycharm": {
     "name": "#%%\n"
    }
   }
  },
  {
   "cell_type": "code",
   "execution_count": 41,
   "outputs": [
    {
     "data": {
      "text/plain": "[2011, 2012, 2013, 2014, 2015, 2016, 2017, 2018, 2019]"
     },
     "execution_count": 41,
     "metadata": {},
     "output_type": "execute_result"
    }
   ],
   "source": [
    "years"
   ],
   "metadata": {
    "collapsed": false,
    "pycharm": {
     "name": "#%%\n"
    }
   }
  },
  {
   "cell_type": "code",
   "execution_count": 42,
   "outputs": [
    {
     "data": {
      "text/plain": "   Country 2011 2012 2013 2014 2015 2016 2017 2018 2019\n0       AL    0    0    0    0    0    0    0  84     0\n1       AT  75   79   81   81   82   85   89   89   90 \n2       BA    0    0    0    0    0    0    0  69   72 \n3       BE  77   78   80   83   82   85   86   87   90 \n4       BG  45   51   54   57   59   64   67   72   75 \n5       CH    0    0    0  91     0    0   93    0  96 \n6       CY  57   62   65   69   71   74   79   86   90 \n7       CZ  67   73   73   78   79   82   83   86   87 \n8       DE  83   85   88   89   90   92   93   94   95 \n9       DK  90   92   93   93   92   94   97   93   95 \n10      EA  74   76   79   81   83   85   87   89   90 \n11      EE  69   74   79   83   88   86   88   90   90 \n12      EL  50   54   56   66   68   69   71   76   79 \n13      ES  63   67   70   74   79   82   83   86   91 \n14      FI  84   87   89   90   90   92   94   94   94 \n15      FR  76   80   82   83   83   86   86   89   90 \n16      HR  61   66   65   68   77   77   76   82   81 \n17      HU  63   67   70   73   76   79   82   83   86 \n18      IE  78   81   82   82   85   87   88   89   91 \n19      IS  93   95   96   96     0    0  98    99  98 \n20      IT  62   63   69   73   75   79   81   84   85 \n21      LT  60   60   65   66   68   72   75   78   82 \n22      LU  91   93   94   96   97   97   97    93  95 \n23      LV  64   69   72   73   76    77  79   82   85 \n24      ME    0  55     0    0    0    0  71   72   74 \n25      MK    0  58   65   68   69   75   74   79   82 \n26      MT  75   77   78   80   81   81   85   84   86 \n27      NL  94   94   95   96   96   97   98   98   98 \n28      NO  92   93   94   93   97   97   97   96   98 \n29      PL  67   70   72   75   76   80   82   84   87 \n30      PT  58   61   62   65   70   74   77   79   81 \n31      RO  47   54   58    61  68   72   76   81   84 \n32      RS    0    0    0    0  64     0  68   73   80 \n33      SE  91   92   93   90   91    94  95   93   96 \n34      SI  73   74   76   77   78   78   82   87   89 \n35      SK  71   75   78   78   79   81   81   81   82 \n36      TR    0  47   49   60   70   76   81   84   88 \n37      UK  83   87   88   90   91   93   94   95   96 \n38      XK    0    0    0    0    0    0  89   93   93 ",
      "text/html": "<div>\n<style scoped>\n    .dataframe tbody tr th:only-of-type {\n        vertical-align: middle;\n    }\n\n    .dataframe tbody tr th {\n        vertical-align: top;\n    }\n\n    .dataframe thead th {\n        text-align: right;\n    }\n</style>\n<table border=\"1\" class=\"dataframe\">\n  <thead>\n    <tr style=\"text-align: right;\">\n      <th></th>\n      <th>Country</th>\n      <th>2011</th>\n      <th>2012</th>\n      <th>2013</th>\n      <th>2014</th>\n      <th>2015</th>\n      <th>2016</th>\n      <th>2017</th>\n      <th>2018</th>\n      <th>2019</th>\n    </tr>\n  </thead>\n  <tbody>\n    <tr>\n      <th>0</th>\n      <td>AL</td>\n      <td>0</td>\n      <td>0</td>\n      <td>0</td>\n      <td>0</td>\n      <td>0</td>\n      <td>0</td>\n      <td>0</td>\n      <td>84</td>\n      <td>0</td>\n    </tr>\n    <tr>\n      <th>1</th>\n      <td>AT</td>\n      <td>75</td>\n      <td>79</td>\n      <td>81</td>\n      <td>81</td>\n      <td>82</td>\n      <td>85</td>\n      <td>89</td>\n      <td>89</td>\n      <td>90</td>\n    </tr>\n    <tr>\n      <th>2</th>\n      <td>BA</td>\n      <td>0</td>\n      <td>0</td>\n      <td>0</td>\n      <td>0</td>\n      <td>0</td>\n      <td>0</td>\n      <td>0</td>\n      <td>69</td>\n      <td>72</td>\n    </tr>\n    <tr>\n      <th>3</th>\n      <td>BE</td>\n      <td>77</td>\n      <td>78</td>\n      <td>80</td>\n      <td>83</td>\n      <td>82</td>\n      <td>85</td>\n      <td>86</td>\n      <td>87</td>\n      <td>90</td>\n    </tr>\n    <tr>\n      <th>4</th>\n      <td>BG</td>\n      <td>45</td>\n      <td>51</td>\n      <td>54</td>\n      <td>57</td>\n      <td>59</td>\n      <td>64</td>\n      <td>67</td>\n      <td>72</td>\n      <td>75</td>\n    </tr>\n    <tr>\n      <th>5</th>\n      <td>CH</td>\n      <td>0</td>\n      <td>0</td>\n      <td>0</td>\n      <td>91</td>\n      <td>0</td>\n      <td>0</td>\n      <td>93</td>\n      <td>0</td>\n      <td>96</td>\n    </tr>\n    <tr>\n      <th>6</th>\n      <td>CY</td>\n      <td>57</td>\n      <td>62</td>\n      <td>65</td>\n      <td>69</td>\n      <td>71</td>\n      <td>74</td>\n      <td>79</td>\n      <td>86</td>\n      <td>90</td>\n    </tr>\n    <tr>\n      <th>7</th>\n      <td>CZ</td>\n      <td>67</td>\n      <td>73</td>\n      <td>73</td>\n      <td>78</td>\n      <td>79</td>\n      <td>82</td>\n      <td>83</td>\n      <td>86</td>\n      <td>87</td>\n    </tr>\n    <tr>\n      <th>8</th>\n      <td>DE</td>\n      <td>83</td>\n      <td>85</td>\n      <td>88</td>\n      <td>89</td>\n      <td>90</td>\n      <td>92</td>\n      <td>93</td>\n      <td>94</td>\n      <td>95</td>\n    </tr>\n    <tr>\n      <th>9</th>\n      <td>DK</td>\n      <td>90</td>\n      <td>92</td>\n      <td>93</td>\n      <td>93</td>\n      <td>92</td>\n      <td>94</td>\n      <td>97</td>\n      <td>93</td>\n      <td>95</td>\n    </tr>\n    <tr>\n      <th>10</th>\n      <td>EA</td>\n      <td>74</td>\n      <td>76</td>\n      <td>79</td>\n      <td>81</td>\n      <td>83</td>\n      <td>85</td>\n      <td>87</td>\n      <td>89</td>\n      <td>90</td>\n    </tr>\n    <tr>\n      <th>11</th>\n      <td>EE</td>\n      <td>69</td>\n      <td>74</td>\n      <td>79</td>\n      <td>83</td>\n      <td>88</td>\n      <td>86</td>\n      <td>88</td>\n      <td>90</td>\n      <td>90</td>\n    </tr>\n    <tr>\n      <th>12</th>\n      <td>EL</td>\n      <td>50</td>\n      <td>54</td>\n      <td>56</td>\n      <td>66</td>\n      <td>68</td>\n      <td>69</td>\n      <td>71</td>\n      <td>76</td>\n      <td>79</td>\n    </tr>\n    <tr>\n      <th>13</th>\n      <td>ES</td>\n      <td>63</td>\n      <td>67</td>\n      <td>70</td>\n      <td>74</td>\n      <td>79</td>\n      <td>82</td>\n      <td>83</td>\n      <td>86</td>\n      <td>91</td>\n    </tr>\n    <tr>\n      <th>14</th>\n      <td>FI</td>\n      <td>84</td>\n      <td>87</td>\n      <td>89</td>\n      <td>90</td>\n      <td>90</td>\n      <td>92</td>\n      <td>94</td>\n      <td>94</td>\n      <td>94</td>\n    </tr>\n    <tr>\n      <th>15</th>\n      <td>FR</td>\n      <td>76</td>\n      <td>80</td>\n      <td>82</td>\n      <td>83</td>\n      <td>83</td>\n      <td>86</td>\n      <td>86</td>\n      <td>89</td>\n      <td>90</td>\n    </tr>\n    <tr>\n      <th>16</th>\n      <td>HR</td>\n      <td>61</td>\n      <td>66</td>\n      <td>65</td>\n      <td>68</td>\n      <td>77</td>\n      <td>77</td>\n      <td>76</td>\n      <td>82</td>\n      <td>81</td>\n    </tr>\n    <tr>\n      <th>17</th>\n      <td>HU</td>\n      <td>63</td>\n      <td>67</td>\n      <td>70</td>\n      <td>73</td>\n      <td>76</td>\n      <td>79</td>\n      <td>82</td>\n      <td>83</td>\n      <td>86</td>\n    </tr>\n    <tr>\n      <th>18</th>\n      <td>IE</td>\n      <td>78</td>\n      <td>81</td>\n      <td>82</td>\n      <td>82</td>\n      <td>85</td>\n      <td>87</td>\n      <td>88</td>\n      <td>89</td>\n      <td>91</td>\n    </tr>\n    <tr>\n      <th>19</th>\n      <td>IS</td>\n      <td>93</td>\n      <td>95</td>\n      <td>96</td>\n      <td>96</td>\n      <td>0</td>\n      <td>0</td>\n      <td>98</td>\n      <td>99</td>\n      <td>98</td>\n    </tr>\n    <tr>\n      <th>20</th>\n      <td>IT</td>\n      <td>62</td>\n      <td>63</td>\n      <td>69</td>\n      <td>73</td>\n      <td>75</td>\n      <td>79</td>\n      <td>81</td>\n      <td>84</td>\n      <td>85</td>\n    </tr>\n    <tr>\n      <th>21</th>\n      <td>LT</td>\n      <td>60</td>\n      <td>60</td>\n      <td>65</td>\n      <td>66</td>\n      <td>68</td>\n      <td>72</td>\n      <td>75</td>\n      <td>78</td>\n      <td>82</td>\n    </tr>\n    <tr>\n      <th>22</th>\n      <td>LU</td>\n      <td>91</td>\n      <td>93</td>\n      <td>94</td>\n      <td>96</td>\n      <td>97</td>\n      <td>97</td>\n      <td>97</td>\n      <td>93</td>\n      <td>95</td>\n    </tr>\n    <tr>\n      <th>23</th>\n      <td>LV</td>\n      <td>64</td>\n      <td>69</td>\n      <td>72</td>\n      <td>73</td>\n      <td>76</td>\n      <td>77</td>\n      <td>79</td>\n      <td>82</td>\n      <td>85</td>\n    </tr>\n    <tr>\n      <th>24</th>\n      <td>ME</td>\n      <td>0</td>\n      <td>55</td>\n      <td>0</td>\n      <td>0</td>\n      <td>0</td>\n      <td>0</td>\n      <td>71</td>\n      <td>72</td>\n      <td>74</td>\n    </tr>\n    <tr>\n      <th>25</th>\n      <td>MK</td>\n      <td>0</td>\n      <td>58</td>\n      <td>65</td>\n      <td>68</td>\n      <td>69</td>\n      <td>75</td>\n      <td>74</td>\n      <td>79</td>\n      <td>82</td>\n    </tr>\n    <tr>\n      <th>26</th>\n      <td>MT</td>\n      <td>75</td>\n      <td>77</td>\n      <td>78</td>\n      <td>80</td>\n      <td>81</td>\n      <td>81</td>\n      <td>85</td>\n      <td>84</td>\n      <td>86</td>\n    </tr>\n    <tr>\n      <th>27</th>\n      <td>NL</td>\n      <td>94</td>\n      <td>94</td>\n      <td>95</td>\n      <td>96</td>\n      <td>96</td>\n      <td>97</td>\n      <td>98</td>\n      <td>98</td>\n      <td>98</td>\n    </tr>\n    <tr>\n      <th>28</th>\n      <td>NO</td>\n      <td>92</td>\n      <td>93</td>\n      <td>94</td>\n      <td>93</td>\n      <td>97</td>\n      <td>97</td>\n      <td>97</td>\n      <td>96</td>\n      <td>98</td>\n    </tr>\n    <tr>\n      <th>29</th>\n      <td>PL</td>\n      <td>67</td>\n      <td>70</td>\n      <td>72</td>\n      <td>75</td>\n      <td>76</td>\n      <td>80</td>\n      <td>82</td>\n      <td>84</td>\n      <td>87</td>\n    </tr>\n    <tr>\n      <th>30</th>\n      <td>PT</td>\n      <td>58</td>\n      <td>61</td>\n      <td>62</td>\n      <td>65</td>\n      <td>70</td>\n      <td>74</td>\n      <td>77</td>\n      <td>79</td>\n      <td>81</td>\n    </tr>\n    <tr>\n      <th>31</th>\n      <td>RO</td>\n      <td>47</td>\n      <td>54</td>\n      <td>58</td>\n      <td>61</td>\n      <td>68</td>\n      <td>72</td>\n      <td>76</td>\n      <td>81</td>\n      <td>84</td>\n    </tr>\n    <tr>\n      <th>32</th>\n      <td>RS</td>\n      <td>0</td>\n      <td>0</td>\n      <td>0</td>\n      <td>0</td>\n      <td>64</td>\n      <td>0</td>\n      <td>68</td>\n      <td>73</td>\n      <td>80</td>\n    </tr>\n    <tr>\n      <th>33</th>\n      <td>SE</td>\n      <td>91</td>\n      <td>92</td>\n      <td>93</td>\n      <td>90</td>\n      <td>91</td>\n      <td>94</td>\n      <td>95</td>\n      <td>93</td>\n      <td>96</td>\n    </tr>\n    <tr>\n      <th>34</th>\n      <td>SI</td>\n      <td>73</td>\n      <td>74</td>\n      <td>76</td>\n      <td>77</td>\n      <td>78</td>\n      <td>78</td>\n      <td>82</td>\n      <td>87</td>\n      <td>89</td>\n    </tr>\n    <tr>\n      <th>35</th>\n      <td>SK</td>\n      <td>71</td>\n      <td>75</td>\n      <td>78</td>\n      <td>78</td>\n      <td>79</td>\n      <td>81</td>\n      <td>81</td>\n      <td>81</td>\n      <td>82</td>\n    </tr>\n    <tr>\n      <th>36</th>\n      <td>TR</td>\n      <td>0</td>\n      <td>47</td>\n      <td>49</td>\n      <td>60</td>\n      <td>70</td>\n      <td>76</td>\n      <td>81</td>\n      <td>84</td>\n      <td>88</td>\n    </tr>\n    <tr>\n      <th>37</th>\n      <td>UK</td>\n      <td>83</td>\n      <td>87</td>\n      <td>88</td>\n      <td>90</td>\n      <td>91</td>\n      <td>93</td>\n      <td>94</td>\n      <td>95</td>\n      <td>96</td>\n    </tr>\n    <tr>\n      <th>38</th>\n      <td>XK</td>\n      <td>0</td>\n      <td>0</td>\n      <td>0</td>\n      <td>0</td>\n      <td>0</td>\n      <td>0</td>\n      <td>89</td>\n      <td>93</td>\n      <td>93</td>\n    </tr>\n  </tbody>\n</table>\n</div>"
     },
     "execution_count": 42,
     "metadata": {},
     "output_type": "execute_result"
    }
   ],
   "source": [
    "df1 = pd.DataFrame(countries, columns=['Country'])\n",
    "df2 = pd.DataFrame(coverage, columns=years)\n",
    "df = pd.concat([df1, df2], axis=1)\n",
    "# 2. Inlocuiti valorile nule cu 0\n",
    "df.replace(': ', 0, inplace=True)\n",
    "df.replace(':', 0, inplace=True)\n",
    "df.replace('\\s[b]', '', inplace=True, regex=True)\n",
    "df"
   ],
   "metadata": {
    "collapsed": false,
    "pycharm": {
     "name": "#%%\n"
    }
   }
  },
  {
   "cell_type": "markdown",
   "source": [
    "## Analyze Data\n",
    "### Cerinta #1\n",
    "Se cere: `get_year_data(dataset, \"2019\")` returneaza `{'2019': [('Romania', 84), ('Germany', 95), ..., ('Latvia', 85)]}`"
   ],
   "metadata": {
    "collapsed": false,
    "pycharm": {
     "name": "#%% md\n"
    }
   }
  },
  {
   "cell_type": "code",
   "execution_count": 43,
   "outputs": [],
   "source": [
    "def get_year_data(dataset, year:int) -> dict:\n",
    "    \"\"\"Returns a dictionary with the coverage of the world in a given year\n",
    "\n",
    "    Parameters:\n",
    "        dataset: Pandas DataFrame\n",
    "        year: int\n",
    "    \"\"\"\n",
    "    data = {\n",
    "        str(year): [(dataset['Country'][ind], dataset[year][ind]) for ind in dataset.index]\n",
    "    }\n",
    "\n",
    "    return data"
   ],
   "metadata": {
    "collapsed": false,
    "pycharm": {
     "name": "#%%\n"
    }
   }
  },
  {
   "cell_type": "code",
   "execution_count": 7,
   "outputs": [
    {
     "data": {
      "text/plain": "{'2016': [('AL', 0),\n  ('AT', '85 '),\n  ('BA', 0),\n  ('BE', '85 '),\n  ('BG', '64 '),\n  ('CH', 0),\n  ('CY', '74 '),\n  ('CZ', '82 '),\n  ('DE', '92 '),\n  ('DK', '94 '),\n  ('EA', '85 '),\n  ('EE', '86 '),\n  ('EL', '69 '),\n  ('ES', '82 '),\n  ('FI', '92 '),\n  ('FR', '86 '),\n  ('HR', '77 '),\n  ('HU', '79 '),\n  ('IE', '87 '),\n  ('IS', 0),\n  ('IT', '79 '),\n  ('LT', '72 '),\n  ('LU', '97 '),\n  ('LV', '77'),\n  ('ME', 0),\n  ('MK', '75 '),\n  ('MT', '81 '),\n  ('NL', '97 '),\n  ('NO', '97 '),\n  ('PL', '80 '),\n  ('PT', '74 '),\n  ('RO', '72 '),\n  ('RS', 0),\n  ('SE', '94'),\n  ('SI', '78 '),\n  ('SK', '81 '),\n  ('TR', '76 '),\n  ('UK', '93 '),\n  ('XK', 0)]}"
     },
     "execution_count": 7,
     "metadata": {},
     "output_type": "execute_result"
    }
   ],
   "source": [
    "get_year_data(df, year=2016)"
   ],
   "metadata": {
    "collapsed": false,
    "pycharm": {
     "name": "#%%\n"
    }
   }
  },
  {
   "cell_type": "markdown",
   "source": [
    "### Cerinta #2\n",
    "se cere realizarea unei functii get_country_data(dataset, \"Romania\"), care sa contina 2 param.datasetul si tara\n",
    "ex: `get_country_data(dataset, \"Romania\")` returneaza `{'Romania': [('2019', 84), ('2018', 86), ..., ('2011', 72)]}`"
   ],
   "metadata": {
    "collapsed": false,
    "pycharm": {
     "name": "#%% md\n"
    }
   }
  },
  {
   "cell_type": "code",
   "execution_count": 44,
   "outputs": [],
   "source": [
    "def get_country_data(dataset, country:str) -> dict:\n",
    "    \"\"\"Returns a dictionary with the coverage of a country in all years\n",
    "\n",
    "    Parameters:\n",
    "        dataset: Pandas DataFrame\n",
    "        country: str\n",
    "    \"\"\"\n",
    "    index = df.index[df['Country'] == country].tolist()[0]\n",
    "    data = {country: [(name, values[index]) for name, values in dataset.iteritems() if name != 'Country']}\n",
    "\n",
    "    return data"
   ],
   "metadata": {
    "collapsed": false,
    "pycharm": {
     "name": "#%%\n"
    }
   }
  },
  {
   "cell_type": "code",
   "execution_count": 45,
   "outputs": [
    {
     "data": {
      "text/plain": "{'RO': [(2011, '47 '),\n  (2012, '54 '),\n  (2013, '58 '),\n  (2014, '61'),\n  (2015, '68 '),\n  (2016, '72 '),\n  (2017, '76 '),\n  (2018, '81 '),\n  (2019, '84 ')]}"
     },
     "execution_count": 45,
     "metadata": {},
     "output_type": "execute_result"
    }
   ],
   "source": [
    "get_country_data(df, country='RO')"
   ],
   "metadata": {
    "collapsed": false,
    "pycharm": {
     "name": "#%%\n"
    }
   }
  },
  {
   "cell_type": "markdown",
   "source": [
    "### Cerinta #3\n",
    "Se cere realizarea unei functii `perform_average(country_data['Romania'])` care sa returneze media per tara,\n",
    "ex perform_average(country_data['Romania']) returneaza 79.4"
   ],
   "metadata": {
    "collapsed": false,
    "pycharm": {
     "name": "#%% md\n"
    }
   }
  },
  {
   "cell_type": "code",
   "execution_count": 46,
   "outputs": [],
   "source": [
    "def perform_average(country_data:list) -> float:\n",
    "    \"\"\"Returns the average coverage of a country\n",
    "\n",
    "    Parameters:\n",
    "        country_data: list\n",
    "    \"\"\"\n",
    "    return round(sum([int(i[1]) for i in country_data]) / len(country_data), 2)"
   ],
   "metadata": {
    "collapsed": false,
    "pycharm": {
     "name": "#%%\n"
    }
   }
  },
  {
   "cell_type": "code",
   "execution_count": 47,
   "outputs": [
    {
     "data": {
      "text/plain": "9.33"
     },
     "execution_count": 47,
     "metadata": {},
     "output_type": "execute_result"
    }
   ],
   "source": [
    "tara = 'AL'\n",
    "perform_average(get_country_data(df, country=tara)[tara])"
   ],
   "metadata": {
    "collapsed": false,
    "pycharm": {
     "name": "#%%\n"
    }
   }
  },
  {
   "cell_type": "markdown",
   "source": [
    "### Cerinte suplimentare\n",
    "#### 1. Salvati in CSV"
   ],
   "metadata": {
    "collapsed": false,
    "pycharm": {
     "name": "#%% md\n"
    }
   }
  },
  {
   "cell_type": "code",
   "execution_count": 48,
   "outputs": [],
   "source": [
    "df.to_csv('cleaned_data.csv')"
   ],
   "metadata": {
    "collapsed": false,
    "pycharm": {
     "name": "#%%\n"
    }
   }
  },
  {
   "cell_type": "markdown",
   "source": [
    "#### 3. Calculati media pe fiecare tara pe care sa o adaugati ca si ultima coloana in tabelul format mai sus\n"
   ],
   "metadata": {
    "collapsed": false,
    "pycharm": {
     "name": "#%% md\n"
    }
   }
  },
  {
   "cell_type": "code",
   "execution_count": 49,
   "outputs": [
    {
     "data": {
      "text/plain": "   Country 2011 2012 2013 2014 2015 2016 2017 2018 2019  Average\n0       AL    0    0    0    0    0    0    0  84     0     9.33\n1       AT  75   79   81   81   82   85   89   89   90     83.44\n2       BA    0    0    0    0    0    0    0  69   72     15.67\n3       BE  77   78   80   83   82   85   86   87   90     83.11\n4       BG  45   51   54   57   59   64   67   72   75     60.44\n5       CH    0    0    0  91     0    0   93    0  96     31.11\n6       CY  57   62   65   69   71   74   79   86   90     72.56\n7       CZ  67   73   73   78   79   82   83   86   87     78.67\n8       DE  83   85   88   89   90   92   93   94   95     89.89\n9       DK  90   92   93   93   92   94   97   93   95     93.22\n10      EA  74   76   79   81   83   85   87   89   90     82.67\n11      EE  69   74   79   83   88   86   88   90   90     83.00\n12      EL  50   54   56   66   68   69   71   76   79     65.44\n13      ES  63   67   70   74   79   82   83   86   91     77.22\n14      FI  84   87   89   90   90   92   94   94   94     90.44\n15      FR  76   80   82   83   83   86   86   89   90     83.89\n16      HR  61   66   65   68   77   77   76   82   81     72.56\n17      HU  63   67   70   73   76   79   82   83   86     75.44\n18      IE  78   81   82   82   85   87   88   89   91     84.78\n19      IS  93   95   96   96     0    0  98    99  98     75.00\n20      IT  62   63   69   73   75   79   81   84   85     74.56\n21      LT  60   60   65   66   68   72   75   78   82     69.56\n22      LU  91   93   94   96   97   97   97    93  95     94.78\n23      LV  64   69   72   73   76    77  79   82   85     75.22\n24      ME    0  55     0    0    0    0  71   72   74     30.22\n25      MK    0  58   65   68   69   75   74   79   82     63.33\n26      MT  75   77   78   80   81   81   85   84   86     80.78\n27      NL  94   94   95   96   96   97   98   98   98     96.22\n28      NO  92   93   94   93   97   97   97   96   98     95.22\n29      PL  67   70   72   75   76   80   82   84   87     77.00\n30      PT  58   61   62   65   70   74   77   79   81     69.67\n31      RO  47   54   58    61  68   72   76   81   84     66.78\n32      RS    0    0    0    0  64     0  68   73   80     31.67\n33      SE  91   92   93   90   91    94  95   93   96     92.78\n34      SI  73   74   76   77   78   78   82   87   89     79.33\n35      SK  71   75   78   78   79   81   81   81   82     78.44\n36      TR    0  47   49   60   70   76   81   84   88     61.67\n37      UK  83   87   88   90   91   93   94   95   96     90.78\n38      XK    0    0    0    0    0    0  89   93   93     30.56",
      "text/html": "<div>\n<style scoped>\n    .dataframe tbody tr th:only-of-type {\n        vertical-align: middle;\n    }\n\n    .dataframe tbody tr th {\n        vertical-align: top;\n    }\n\n    .dataframe thead th {\n        text-align: right;\n    }\n</style>\n<table border=\"1\" class=\"dataframe\">\n  <thead>\n    <tr style=\"text-align: right;\">\n      <th></th>\n      <th>Country</th>\n      <th>2011</th>\n      <th>2012</th>\n      <th>2013</th>\n      <th>2014</th>\n      <th>2015</th>\n      <th>2016</th>\n      <th>2017</th>\n      <th>2018</th>\n      <th>2019</th>\n      <th>Average</th>\n    </tr>\n  </thead>\n  <tbody>\n    <tr>\n      <th>0</th>\n      <td>AL</td>\n      <td>0</td>\n      <td>0</td>\n      <td>0</td>\n      <td>0</td>\n      <td>0</td>\n      <td>0</td>\n      <td>0</td>\n      <td>84</td>\n      <td>0</td>\n      <td>9.33</td>\n    </tr>\n    <tr>\n      <th>1</th>\n      <td>AT</td>\n      <td>75</td>\n      <td>79</td>\n      <td>81</td>\n      <td>81</td>\n      <td>82</td>\n      <td>85</td>\n      <td>89</td>\n      <td>89</td>\n      <td>90</td>\n      <td>83.44</td>\n    </tr>\n    <tr>\n      <th>2</th>\n      <td>BA</td>\n      <td>0</td>\n      <td>0</td>\n      <td>0</td>\n      <td>0</td>\n      <td>0</td>\n      <td>0</td>\n      <td>0</td>\n      <td>69</td>\n      <td>72</td>\n      <td>15.67</td>\n    </tr>\n    <tr>\n      <th>3</th>\n      <td>BE</td>\n      <td>77</td>\n      <td>78</td>\n      <td>80</td>\n      <td>83</td>\n      <td>82</td>\n      <td>85</td>\n      <td>86</td>\n      <td>87</td>\n      <td>90</td>\n      <td>83.11</td>\n    </tr>\n    <tr>\n      <th>4</th>\n      <td>BG</td>\n      <td>45</td>\n      <td>51</td>\n      <td>54</td>\n      <td>57</td>\n      <td>59</td>\n      <td>64</td>\n      <td>67</td>\n      <td>72</td>\n      <td>75</td>\n      <td>60.44</td>\n    </tr>\n    <tr>\n      <th>5</th>\n      <td>CH</td>\n      <td>0</td>\n      <td>0</td>\n      <td>0</td>\n      <td>91</td>\n      <td>0</td>\n      <td>0</td>\n      <td>93</td>\n      <td>0</td>\n      <td>96</td>\n      <td>31.11</td>\n    </tr>\n    <tr>\n      <th>6</th>\n      <td>CY</td>\n      <td>57</td>\n      <td>62</td>\n      <td>65</td>\n      <td>69</td>\n      <td>71</td>\n      <td>74</td>\n      <td>79</td>\n      <td>86</td>\n      <td>90</td>\n      <td>72.56</td>\n    </tr>\n    <tr>\n      <th>7</th>\n      <td>CZ</td>\n      <td>67</td>\n      <td>73</td>\n      <td>73</td>\n      <td>78</td>\n      <td>79</td>\n      <td>82</td>\n      <td>83</td>\n      <td>86</td>\n      <td>87</td>\n      <td>78.67</td>\n    </tr>\n    <tr>\n      <th>8</th>\n      <td>DE</td>\n      <td>83</td>\n      <td>85</td>\n      <td>88</td>\n      <td>89</td>\n      <td>90</td>\n      <td>92</td>\n      <td>93</td>\n      <td>94</td>\n      <td>95</td>\n      <td>89.89</td>\n    </tr>\n    <tr>\n      <th>9</th>\n      <td>DK</td>\n      <td>90</td>\n      <td>92</td>\n      <td>93</td>\n      <td>93</td>\n      <td>92</td>\n      <td>94</td>\n      <td>97</td>\n      <td>93</td>\n      <td>95</td>\n      <td>93.22</td>\n    </tr>\n    <tr>\n      <th>10</th>\n      <td>EA</td>\n      <td>74</td>\n      <td>76</td>\n      <td>79</td>\n      <td>81</td>\n      <td>83</td>\n      <td>85</td>\n      <td>87</td>\n      <td>89</td>\n      <td>90</td>\n      <td>82.67</td>\n    </tr>\n    <tr>\n      <th>11</th>\n      <td>EE</td>\n      <td>69</td>\n      <td>74</td>\n      <td>79</td>\n      <td>83</td>\n      <td>88</td>\n      <td>86</td>\n      <td>88</td>\n      <td>90</td>\n      <td>90</td>\n      <td>83.00</td>\n    </tr>\n    <tr>\n      <th>12</th>\n      <td>EL</td>\n      <td>50</td>\n      <td>54</td>\n      <td>56</td>\n      <td>66</td>\n      <td>68</td>\n      <td>69</td>\n      <td>71</td>\n      <td>76</td>\n      <td>79</td>\n      <td>65.44</td>\n    </tr>\n    <tr>\n      <th>13</th>\n      <td>ES</td>\n      <td>63</td>\n      <td>67</td>\n      <td>70</td>\n      <td>74</td>\n      <td>79</td>\n      <td>82</td>\n      <td>83</td>\n      <td>86</td>\n      <td>91</td>\n      <td>77.22</td>\n    </tr>\n    <tr>\n      <th>14</th>\n      <td>FI</td>\n      <td>84</td>\n      <td>87</td>\n      <td>89</td>\n      <td>90</td>\n      <td>90</td>\n      <td>92</td>\n      <td>94</td>\n      <td>94</td>\n      <td>94</td>\n      <td>90.44</td>\n    </tr>\n    <tr>\n      <th>15</th>\n      <td>FR</td>\n      <td>76</td>\n      <td>80</td>\n      <td>82</td>\n      <td>83</td>\n      <td>83</td>\n      <td>86</td>\n      <td>86</td>\n      <td>89</td>\n      <td>90</td>\n      <td>83.89</td>\n    </tr>\n    <tr>\n      <th>16</th>\n      <td>HR</td>\n      <td>61</td>\n      <td>66</td>\n      <td>65</td>\n      <td>68</td>\n      <td>77</td>\n      <td>77</td>\n      <td>76</td>\n      <td>82</td>\n      <td>81</td>\n      <td>72.56</td>\n    </tr>\n    <tr>\n      <th>17</th>\n      <td>HU</td>\n      <td>63</td>\n      <td>67</td>\n      <td>70</td>\n      <td>73</td>\n      <td>76</td>\n      <td>79</td>\n      <td>82</td>\n      <td>83</td>\n      <td>86</td>\n      <td>75.44</td>\n    </tr>\n    <tr>\n      <th>18</th>\n      <td>IE</td>\n      <td>78</td>\n      <td>81</td>\n      <td>82</td>\n      <td>82</td>\n      <td>85</td>\n      <td>87</td>\n      <td>88</td>\n      <td>89</td>\n      <td>91</td>\n      <td>84.78</td>\n    </tr>\n    <tr>\n      <th>19</th>\n      <td>IS</td>\n      <td>93</td>\n      <td>95</td>\n      <td>96</td>\n      <td>96</td>\n      <td>0</td>\n      <td>0</td>\n      <td>98</td>\n      <td>99</td>\n      <td>98</td>\n      <td>75.00</td>\n    </tr>\n    <tr>\n      <th>20</th>\n      <td>IT</td>\n      <td>62</td>\n      <td>63</td>\n      <td>69</td>\n      <td>73</td>\n      <td>75</td>\n      <td>79</td>\n      <td>81</td>\n      <td>84</td>\n      <td>85</td>\n      <td>74.56</td>\n    </tr>\n    <tr>\n      <th>21</th>\n      <td>LT</td>\n      <td>60</td>\n      <td>60</td>\n      <td>65</td>\n      <td>66</td>\n      <td>68</td>\n      <td>72</td>\n      <td>75</td>\n      <td>78</td>\n      <td>82</td>\n      <td>69.56</td>\n    </tr>\n    <tr>\n      <th>22</th>\n      <td>LU</td>\n      <td>91</td>\n      <td>93</td>\n      <td>94</td>\n      <td>96</td>\n      <td>97</td>\n      <td>97</td>\n      <td>97</td>\n      <td>93</td>\n      <td>95</td>\n      <td>94.78</td>\n    </tr>\n    <tr>\n      <th>23</th>\n      <td>LV</td>\n      <td>64</td>\n      <td>69</td>\n      <td>72</td>\n      <td>73</td>\n      <td>76</td>\n      <td>77</td>\n      <td>79</td>\n      <td>82</td>\n      <td>85</td>\n      <td>75.22</td>\n    </tr>\n    <tr>\n      <th>24</th>\n      <td>ME</td>\n      <td>0</td>\n      <td>55</td>\n      <td>0</td>\n      <td>0</td>\n      <td>0</td>\n      <td>0</td>\n      <td>71</td>\n      <td>72</td>\n      <td>74</td>\n      <td>30.22</td>\n    </tr>\n    <tr>\n      <th>25</th>\n      <td>MK</td>\n      <td>0</td>\n      <td>58</td>\n      <td>65</td>\n      <td>68</td>\n      <td>69</td>\n      <td>75</td>\n      <td>74</td>\n      <td>79</td>\n      <td>82</td>\n      <td>63.33</td>\n    </tr>\n    <tr>\n      <th>26</th>\n      <td>MT</td>\n      <td>75</td>\n      <td>77</td>\n      <td>78</td>\n      <td>80</td>\n      <td>81</td>\n      <td>81</td>\n      <td>85</td>\n      <td>84</td>\n      <td>86</td>\n      <td>80.78</td>\n    </tr>\n    <tr>\n      <th>27</th>\n      <td>NL</td>\n      <td>94</td>\n      <td>94</td>\n      <td>95</td>\n      <td>96</td>\n      <td>96</td>\n      <td>97</td>\n      <td>98</td>\n      <td>98</td>\n      <td>98</td>\n      <td>96.22</td>\n    </tr>\n    <tr>\n      <th>28</th>\n      <td>NO</td>\n      <td>92</td>\n      <td>93</td>\n      <td>94</td>\n      <td>93</td>\n      <td>97</td>\n      <td>97</td>\n      <td>97</td>\n      <td>96</td>\n      <td>98</td>\n      <td>95.22</td>\n    </tr>\n    <tr>\n      <th>29</th>\n      <td>PL</td>\n      <td>67</td>\n      <td>70</td>\n      <td>72</td>\n      <td>75</td>\n      <td>76</td>\n      <td>80</td>\n      <td>82</td>\n      <td>84</td>\n      <td>87</td>\n      <td>77.00</td>\n    </tr>\n    <tr>\n      <th>30</th>\n      <td>PT</td>\n      <td>58</td>\n      <td>61</td>\n      <td>62</td>\n      <td>65</td>\n      <td>70</td>\n      <td>74</td>\n      <td>77</td>\n      <td>79</td>\n      <td>81</td>\n      <td>69.67</td>\n    </tr>\n    <tr>\n      <th>31</th>\n      <td>RO</td>\n      <td>47</td>\n      <td>54</td>\n      <td>58</td>\n      <td>61</td>\n      <td>68</td>\n      <td>72</td>\n      <td>76</td>\n      <td>81</td>\n      <td>84</td>\n      <td>66.78</td>\n    </tr>\n    <tr>\n      <th>32</th>\n      <td>RS</td>\n      <td>0</td>\n      <td>0</td>\n      <td>0</td>\n      <td>0</td>\n      <td>64</td>\n      <td>0</td>\n      <td>68</td>\n      <td>73</td>\n      <td>80</td>\n      <td>31.67</td>\n    </tr>\n    <tr>\n      <th>33</th>\n      <td>SE</td>\n      <td>91</td>\n      <td>92</td>\n      <td>93</td>\n      <td>90</td>\n      <td>91</td>\n      <td>94</td>\n      <td>95</td>\n      <td>93</td>\n      <td>96</td>\n      <td>92.78</td>\n    </tr>\n    <tr>\n      <th>34</th>\n      <td>SI</td>\n      <td>73</td>\n      <td>74</td>\n      <td>76</td>\n      <td>77</td>\n      <td>78</td>\n      <td>78</td>\n      <td>82</td>\n      <td>87</td>\n      <td>89</td>\n      <td>79.33</td>\n    </tr>\n    <tr>\n      <th>35</th>\n      <td>SK</td>\n      <td>71</td>\n      <td>75</td>\n      <td>78</td>\n      <td>78</td>\n      <td>79</td>\n      <td>81</td>\n      <td>81</td>\n      <td>81</td>\n      <td>82</td>\n      <td>78.44</td>\n    </tr>\n    <tr>\n      <th>36</th>\n      <td>TR</td>\n      <td>0</td>\n      <td>47</td>\n      <td>49</td>\n      <td>60</td>\n      <td>70</td>\n      <td>76</td>\n      <td>81</td>\n      <td>84</td>\n      <td>88</td>\n      <td>61.67</td>\n    </tr>\n    <tr>\n      <th>37</th>\n      <td>UK</td>\n      <td>83</td>\n      <td>87</td>\n      <td>88</td>\n      <td>90</td>\n      <td>91</td>\n      <td>93</td>\n      <td>94</td>\n      <td>95</td>\n      <td>96</td>\n      <td>90.78</td>\n    </tr>\n    <tr>\n      <th>38</th>\n      <td>XK</td>\n      <td>0</td>\n      <td>0</td>\n      <td>0</td>\n      <td>0</td>\n      <td>0</td>\n      <td>0</td>\n      <td>89</td>\n      <td>93</td>\n      <td>93</td>\n      <td>30.56</td>\n    </tr>\n  </tbody>\n</table>\n</div>"
     },
     "execution_count": 49,
     "metadata": {},
     "output_type": "execute_result"
    }
   ],
   "source": [
    "average_list = []\n",
    "for i in df.index:\n",
    "    value = perform_average(get_country_data(df, country=df.loc[i, 'Country'])[df.loc[i, 'Country']])\n",
    "    average_list.append(value)\n",
    "df['Average'] = average_list\n",
    "df"
   ],
   "metadata": {
    "collapsed": false,
    "pycharm": {
     "name": "#%%\n"
    }
   }
  },
  {
   "cell_type": "markdown",
   "source": [
    "#### 4. Afisati informatii referitoare la date cu ajutorul functiei describe"
   ],
   "metadata": {
    "collapsed": false,
    "pycharm": {
     "name": "#%% md\n"
    }
   }
  },
  {
   "cell_type": "code",
   "execution_count": 50,
   "outputs": [
    {
     "data": {
      "text/plain": "         Average\ncount  39.000000\nmean   70.934615\nstd    22.275602\nmin     9.330000\n25%    66.110000\n50%    77.000000\n75%    83.665000\nmax    96.220000",
      "text/html": "<div>\n<style scoped>\n    .dataframe tbody tr th:only-of-type {\n        vertical-align: middle;\n    }\n\n    .dataframe tbody tr th {\n        vertical-align: top;\n    }\n\n    .dataframe thead th {\n        text-align: right;\n    }\n</style>\n<table border=\"1\" class=\"dataframe\">\n  <thead>\n    <tr style=\"text-align: right;\">\n      <th></th>\n      <th>Average</th>\n    </tr>\n  </thead>\n  <tbody>\n    <tr>\n      <th>count</th>\n      <td>39.000000</td>\n    </tr>\n    <tr>\n      <th>mean</th>\n      <td>70.934615</td>\n    </tr>\n    <tr>\n      <th>std</th>\n      <td>22.275602</td>\n    </tr>\n    <tr>\n      <th>min</th>\n      <td>9.330000</td>\n    </tr>\n    <tr>\n      <th>25%</th>\n      <td>66.110000</td>\n    </tr>\n    <tr>\n      <th>50%</th>\n      <td>77.000000</td>\n    </tr>\n    <tr>\n      <th>75%</th>\n      <td>83.665000</td>\n    </tr>\n    <tr>\n      <th>max</th>\n      <td>96.220000</td>\n    </tr>\n  </tbody>\n</table>\n</div>"
     },
     "execution_count": 50,
     "metadata": {},
     "output_type": "execute_result"
    }
   ],
   "source": [
    "df.describe()"
   ],
   "metadata": {
    "collapsed": false,
    "pycharm": {
     "name": "#%%\n"
    }
   }
  },
  {
   "cell_type": "markdown",
   "source": [
    "#### 5. Realizati un grafic de tip scatter pentru primele 2 tari in functie de media acestora"
   ],
   "metadata": {
    "collapsed": false,
    "pycharm": {
     "name": "#%% md\n"
    }
   }
  },
  {
   "cell_type": "code",
   "execution_count": 51,
   "outputs": [
    {
     "data": {
      "text/plain": "<Figure size 1440x360 with 1 Axes>",
      "image/png": "[encoded data removed]"
     },
     "metadata": {
      "needs_background": "light"
     },
     "output_type": "display_data"
    }
   ],
   "source": [
    "year = 2016\n",
    "plt.figure(figsize=(20, 5))\n",
    "plt.title(f'Coverage of the World in {year}')\n",
    "plt.scatter(df.Country, df['Average'], s=df['Average'] * 10)\n",
    "plt.xlabel('Country')\n",
    "plt.ylabel('Average')\n",
    "plt.show()"
   ],
   "metadata": {
    "collapsed": false,
    "pycharm": {
     "name": "#%%\n"
    }
   }
  },
  {
   "cell_type": "markdown",
   "source": [
    "#### 6. Realizati o histograma a datelor pentru Romania."
   ],
   "metadata": {
    "collapsed": false,
    "pycharm": {
     "name": "#%% md\n"
    }
   }
  },
  {
   "cell_type": "code",
   "execution_count": 59,
   "outputs": [
    {
     "data": {
      "text/plain": "Country   AL   AT   BA   BE   BG   CH   CY   CZ   DE   DK  ...   PL   PT   RO  \\\n2011       0  75     0  77   45     0  57   67   83   90   ...  67   58   47    \n2012       0  79     0  78   51     0  62   73   85   92   ...  70   61   54    \n2013       0  81     0  80   54     0  65   73   88   93   ...  72   62   58    \n2014       0  81     0  83   57   91   69   78   89   93   ...  75   65    61   \n2015       0  82     0  82   59     0  71   79   90   92   ...  76   70   68    \n2016       0  85     0  85   64     0  74   82   92   94   ...  80   74   72    \n2017       0  89     0  86   67    93  79   83   93   97   ...  82   77   76    \n2018     84   89   69   87   72     0  86   86   94   93   ...  84   79   81    \n2019       0  90   72   90   75   96   90   87   95   95   ...  87   81   84    \n\nCountry   RS   SE   SI   SK   TR   UK   XK  \n2011       0  91   73   71     0  83     0  \n2012       0  92   74   75   47   87     0  \n2013       0  93   76   78   49   88     0  \n2014       0  90   77   78   60   90     0  \n2015     64   91   78   79   70   91     0  \n2016       0   94  78   81   76   93     0  \n2017     68   95   82   81   81   94   89   \n2018     73   93   87   81   84   95   93   \n2019     80   96   89   82   88   96   93   \n\n[9 rows x 39 columns]",
      "text/html": "<div>\n<style scoped>\n    .dataframe tbody tr th:only-of-type {\n        vertical-align: middle;\n    }\n\n    .dataframe tbody tr th {\n        vertical-align: top;\n    }\n\n    .dataframe thead th {\n        text-align: right;\n    }\n</style>\n<table border=\"1\" class=\"dataframe\">\n  <thead>\n    <tr style=\"text-align: right;\">\n      <th>Country</th>\n      <th>AL</th>\n      <th>AT</th>\n      <th>BA</th>\n      <th>BE</th>\n      <th>BG</th>\n      <th>CH</th>\n      <th>CY</th>\n      <th>CZ</th>\n      <th>DE</th>\n      <th>DK</th>\n      <th>...</th>\n      <th>PL</th>\n      <th>PT</th>\n      <th>RO</th>\n      <th>RS</th>\n      <th>SE</th>\n      <th>SI</th>\n      <th>SK</th>\n      <th>TR</th>\n      <th>UK</th>\n      <th>XK</th>\n    </tr>\n  </thead>\n  <tbody>\n    <tr>\n      <th>2011</th>\n      <td>0</td>\n      <td>75</td>\n      <td>0</td>\n      <td>77</td>\n      <td>45</td>\n      <td>0</td>\n      <td>57</td>\n      <td>67</td>\n      <td>83</td>\n      <td>90</td>\n      <td>...</td>\n      <td>67</td>\n      <td>58</td>\n      <td>47</td>\n      <td>0</td>\n      <td>91</td>\n      <td>73</td>\n      <td>71</td>\n      <td>0</td>\n      <td>83</td>\n      <td>0</td>\n    </tr>\n    <tr>\n      <th>2012</th>\n      <td>0</td>\n      <td>79</td>\n      <td>0</td>\n      <td>78</td>\n      <td>51</td>\n      <td>0</td>\n      <td>62</td>\n      <td>73</td>\n      <td>85</td>\n      <td>92</td>\n      <td>...</td>\n      <td>70</td>\n      <td>61</td>\n      <td>54</td>\n      <td>0</td>\n      <td>92</td>\n      <td>74</td>\n      <td>75</td>\n      <td>47</td>\n      <td>87</td>\n      <td>0</td>\n    </tr>\n    <tr>\n      <th>2013</th>\n      <td>0</td>\n      <td>81</td>\n      <td>0</td>\n      <td>80</td>\n      <td>54</td>\n      <td>0</td>\n      <td>65</td>\n      <td>73</td>\n      <td>88</td>\n      <td>93</td>\n      <td>...</td>\n      <td>72</td>\n      <td>62</td>\n      <td>58</td>\n      <td>0</td>\n      <td>93</td>\n      <td>76</td>\n      <td>78</td>\n      <td>49</td>\n      <td>88</td>\n      <td>0</td>\n    </tr>\n    <tr>\n      <th>2014</th>\n      <td>0</td>\n      <td>81</td>\n      <td>0</td>\n      <td>83</td>\n      <td>57</td>\n      <td>91</td>\n      <td>69</td>\n      <td>78</td>\n      <td>89</td>\n      <td>93</td>\n      <td>...</td>\n      <td>75</td>\n      <td>65</td>\n      <td>61</td>\n      <td>0</td>\n      <td>90</td>\n      <td>77</td>\n      <td>78</td>\n      <td>60</td>\n      <td>90</td>\n      <td>0</td>\n    </tr>\n    <tr>\n      <th>2015</th>\n      <td>0</td>\n      <td>82</td>\n      <td>0</td>\n      <td>82</td>\n      <td>59</td>\n      <td>0</td>\n      <td>71</td>\n      <td>79</td>\n      <td>90</td>\n      <td>92</td>\n      <td>...</td>\n      <td>76</td>\n      <td>70</td>\n      <td>68</td>\n      <td>64</td>\n      <td>91</td>\n      <td>78</td>\n      <td>79</td>\n      <td>70</td>\n      <td>91</td>\n      <td>0</td>\n    </tr>\n    <tr>\n      <th>2016</th>\n      <td>0</td>\n      <td>85</td>\n      <td>0</td>\n      <td>85</td>\n      <td>64</td>\n      <td>0</td>\n      <td>74</td>\n      <td>82</td>\n      <td>92</td>\n      <td>94</td>\n      <td>...</td>\n      <td>80</td>\n      <td>74</td>\n      <td>72</td>\n      <td>0</td>\n      <td>94</td>\n      <td>78</td>\n      <td>81</td>\n      <td>76</td>\n      <td>93</td>\n      <td>0</td>\n    </tr>\n    <tr>\n      <th>2017</th>\n      <td>0</td>\n      <td>89</td>\n      <td>0</td>\n      <td>86</td>\n      <td>67</td>\n      <td>93</td>\n      <td>79</td>\n      <td>83</td>\n      <td>93</td>\n      <td>97</td>\n      <td>...</td>\n      <td>82</td>\n      <td>77</td>\n      <td>76</td>\n      <td>68</td>\n      <td>95</td>\n      <td>82</td>\n      <td>81</td>\n      <td>81</td>\n      <td>94</td>\n      <td>89</td>\n    </tr>\n    <tr>\n      <th>2018</th>\n      <td>84</td>\n      <td>89</td>\n      <td>69</td>\n      <td>87</td>\n      <td>72</td>\n      <td>0</td>\n      <td>86</td>\n      <td>86</td>\n      <td>94</td>\n      <td>93</td>\n      <td>...</td>\n      <td>84</td>\n      <td>79</td>\n      <td>81</td>\n      <td>73</td>\n      <td>93</td>\n      <td>87</td>\n      <td>81</td>\n      <td>84</td>\n      <td>95</td>\n      <td>93</td>\n    </tr>\n    <tr>\n      <th>2019</th>\n      <td>0</td>\n      <td>90</td>\n      <td>72</td>\n      <td>90</td>\n      <td>75</td>\n      <td>96</td>\n      <td>90</td>\n      <td>87</td>\n      <td>95</td>\n      <td>95</td>\n      <td>...</td>\n      <td>87</td>\n      <td>81</td>\n      <td>84</td>\n      <td>80</td>\n      <td>96</td>\n      <td>89</td>\n      <td>82</td>\n      <td>88</td>\n      <td>96</td>\n      <td>93</td>\n    </tr>\n  </tbody>\n</table>\n<p>9 rows × 39 columns</p>\n</div>"
     },
     "execution_count": 59,
     "metadata": {},
     "output_type": "execute_result"
    }
   ],
   "source": [
    "# TODO Not finished\n",
    "df_without_avg = df.drop(columns=['Average'])\n",
    "country_index = df_without_avg.set_index('Country').transpose()\n",
    "country_index"
   ],
   "metadata": {
    "collapsed": false,
    "pycharm": {
     "name": "#%%\n"
    }
   }
  },
  {
   "cell_type": "code",
   "execution_count": null,
   "outputs": [],
   "source": [],
   "metadata": {
    "collapsed": false,
    "pycharm": {
     "name": "#%%\n"
    }
   }
  }
 ],
 "metadata": {
  "kernelspec": {
   "display_name": "Python 3",
   "language": "python",
   "name": "python3"
  },
  "language_info": {
   "codemirror_mode": {
    "name": "ipython",
    "version": 2
   },
   "file_extension": ".py",
   "mimetype": "text/x-python",
   "name": "python",
   "nbconvert_exporter": "python",
   "pygments_lexer": "ipython2",
   "version": "2.7.6"
  }
 },
 "nbformat": 4,
 "nbformat_minor": 0
}