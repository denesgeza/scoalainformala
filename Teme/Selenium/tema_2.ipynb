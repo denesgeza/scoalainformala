{
 "cells": [
  {
   "cell_type": "code",
   "execution_count": 2,
   "outputs": [],
   "source": [
    "import pandas as pd\n",
    "import matplotlib.pyplot as plt"
   ],
   "metadata": {
    "collapsed": false,
    "pycharm": {
     "name": "#%%\n"
    }
   }
  },
  {
   "cell_type": "code",
   "execution_count": 3,
   "outputs": [],
   "source": [
    "description = ('Country', ['2011 ', '2012 ', '2013 ', '2014 ', '2015 ', '2016 ', '2017', '2018 ', '2019 '])\n",
    "dataset = [\n",
    "    ('AL', [': ', ': ', ': ', ': ', ': ', ': ', ': ', '84 ', ':']),\n",
    "    ('AT', ['75 ', '79 ', '81 ', '81 ', '82 ', '85 ', '89 ', '89 ', '90 ']),\n",
    "    ('BA', [': ', ': ', ': ', ': ', ': ', ': ', ': ', '69 ', '72 ']),\n",
    "    ('BE', ['77 ', '78 ', '80 ', '83 ', '82 ', '85 ', '86 ', '87 ', '90 ']),\n",
    "    ('BG', ['45 ', '51 ', '54 ', '57 ', '59 ', '64 ', '67 ', '72 ', '75 ']),\n",
    "    ('CH', [': ', ': ', ': ', '91 ', ': ', ': ', '93 b', ': ', '96 ']),\n",
    "    ('CY', ['57 ', '62 ', '65 ', '69 ', '71 ', '74 ', '79 ', '86 ', '90 ']),\n",
    "    ('CZ', ['67 ', '73 ', '73 ', '78 ', '79 ', '82 ', '83 ', '86 ', '87 ']),\n",
    "    ('DE', ['83 ', '85 ', '88 ', '89 ', '90 ', '92 ', '93 ', '94 ', '95 ']),\n",
    "    ('DK', ['90 ', '92 ', '93 ', '93 ', '92 ', '94 ', '97 ', '93 ', '95 ']),\n",
    "    ('EA', ['74 ', '76 ', '79 ', '81 ', '83 ', '85 ', '87 ', '89 ', '90 ']),\n",
    "    ('EE', ['69 ', '74 ', '79 ', '83 ', '88 ', '86 ', '88 ', '90 ', '90 ']),\n",
    "    ('EL', ['50 ', '54 ', '56 ', '66 ', '68 ', '69 ', '71 ', '76 ', '79 ']),\n",
    "    ('ES', ['63 ', '67 ', '70 ', '74 ', '79 ', '82 ', '83 ', '86 ', '91 ']),\n",
    "    ('FI', ['84 ', '87 ', '89 ', '90 ', '90 ', '92 ', '94 ', '94 ', '94 ']),\n",
    "    ('FR', ['76 ', '80 ', '82 ', '83 ', '83 ', '86 ', '86 ', '89 ', '90 ']),\n",
    "    ('HR', ['61 ', '66 ', '65 ', '68 ', '77 ', '77 ', '76 ', '82 ', '81 ']),\n",
    "    ('HU', ['63 ', '67 ', '70 ', '73 ', '76 ', '79 ', '82 ', '83 ', '86 ']),\n",
    "    ('IE', ['78 ', '81 ', '82 ', '82 ', '85 ', '87 ', '88 ', '89 ', '91 ']),\n",
    "    ('IS', ['93 ', '95 ', '96 ', '96 ', ': ', ': ', '98 ', '99', '98 ']),\n",
    "    ('IT', ['62 ', '63 ', '69 ', '73 ', '75 ', '79 ', '81 ', '84 ', '85 ']),\n",
    "    ('LT', ['60 ', '60 ', '65 ', '66 ', '68 ', '72 ', '75 ', '78 ', '82 ']),\n",
    "    ('LU', ['91 ', '93 ', '94 ', '96 ', '97 ', '97 ', '97 ', '93 b', '95 ']),\n",
    "    ('LV', ['64 ', '69 ', '72 ', '73 ', '76 ', '77 b', '79 ', '82 ', '85 ']),\n",
    "    ('ME', [': ', '55 ', ': ', ': ', ': ', ': ', '71 ', '72 ', '74 ']),\n",
    "    ('MK', [': ', '58 ', '65 ', '68 ', '69 ', '75 ', '74 ', '79 ', '82 ']),\n",
    "    ('MT', ['75 ', '77 ', '78 ', '80 ', '81 ', '81 ', '85 ', '84 ', '86 ']),\n",
    "    ('NL', ['94 ', '94 ', '95 ', '96 ', '96 ', '97 ', '98 ', '98 ', '98 ']),\n",
    "    ('NO', ['92 ', '93 ', '94 ', '93 ', '97 ', '97 ', '97 ', '96 ', '98 ']),\n",
    "    ('PL', ['67 ', '70 ', '72 ', '75 ', '76 ', '80 ', '82 ', '84 ', '87 ']),\n",
    "    ('PT', ['58 ', '61 ', '62 ', '65 ', '70 ', '74 ', '77 ', '79 ', '81 ']),\n",
    "    ('RO', ['47 ', '54 ', '58 ', '61 b', '68 ', '72 ', '76 ', '81 ', '84 ']),\n",
    "    ('RS', [': ', ': ', ': ', ': ', '64 ', ': ', '68 ', '73 ', '80 ']),\n",
    "    ('SE', ['91 ', '92 ', '93 ', '90 ', '91 ', '94 b', '95 ', '93 ', '96 ']),\n",
    "    ('SI', ['73 ', '74 ', '76 ', '77 ', '78 ', '78 ', '82 ', '87 ', '89 ']),\n",
    "    ('SK', ['71 ', '75 ', '78 ', '78 ', '79 ', '81 ', '81 ', '81 ', '82 ']),\n",
    "    ('TR', [': ', '47 ', '49 ', '60 ', '70 ', '76 ', '81 ', '84 ', '88 ']),\n",
    "    ('UK', ['83 ', '87 ', '88 ', '90 ', '91 ', '93 ', '94 ', '95 ', '96 ']),\n",
    "    ('XK', [': ', ': ', ': ', ': ', ': ', ': ', '89 ', '93 ', '93 ']),\n",
    "]"
   ],
   "metadata": {
    "collapsed": false,
    "pycharm": {
     "name": "#%%\n"
    }
   }
  },
  {
   "cell_type": "code",
   "execution_count": 4,
   "outputs": [],
   "source": [
    "countries = [i[0] for i in dataset]\n",
    "years = [int(i.strip()) for i in description[1]]\n",
    "coverage = [i[1] for i in dataset]"
   ],
   "metadata": {
    "collapsed": false,
    "pycharm": {
     "name": "#%%\n"
    }
   }
  },
  {
   "cell_type": "code",
   "execution_count": 44,
   "outputs": [
    {
     "data": {
      "text/plain": "   Country 2011 2012 2013 2014 2015 2016 2017 2018 2019\n0       AL    0    0    0    0    0    0    0  84     0\n1       AT  75   79   81   81   82   85   89   89   90 \n2       BA    0    0    0    0    0    0    0  69   72 \n3       BE  77   78   80   83   82   85   86   87   90 \n4       BG  45   51   54   57   59   64   67   72   75 \n5       CH    0    0    0  91     0    0   93    0  96 \n6       CY  57   62   65   69   71   74   79   86   90 \n7       CZ  67   73   73   78   79   82   83   86   87 \n8       DE  83   85   88   89   90   92   93   94   95 \n9       DK  90   92   93   93   92   94   97   93   95 \n10      EA  74   76   79   81   83   85   87   89   90 \n11      EE  69   74   79   83   88   86   88   90   90 \n12      EL  50   54   56   66   68   69   71   76   79 \n13      ES  63   67   70   74   79   82   83   86   91 \n14      FI  84   87   89   90   90   92   94   94   94 \n15      FR  76   80   82   83   83   86   86   89   90 \n16      HR  61   66   65   68   77   77   76   82   81 \n17      HU  63   67   70   73   76   79   82   83   86 \n18      IE  78   81   82   82   85   87   88   89   91 \n19      IS  93   95   96   96     0    0  98    99  98 \n20      IT  62   63   69   73   75   79   81   84   85 \n21      LT  60   60   65   66   68   72   75   78   82 \n22      LU  91   93   94   96   97   97   97    93  95 \n23      LV  64   69   72   73   76    77  79   82   85 \n24      ME    0  55     0    0    0    0  71   72   74 \n25      MK    0  58   65   68   69   75   74   79   82 \n26      MT  75   77   78   80   81   81   85   84   86 \n27      NL  94   94   95   96   96   97   98   98   98 \n28      NO  92   93   94   93   97   97   97   96   98 \n29      PL  67   70   72   75   76   80   82   84   87 \n30      PT  58   61   62   65   70   74   77   79   81 \n31      RO  47   54   58    61  68   72   76   81   84 \n32      RS    0    0    0    0  64     0  68   73   80 \n33      SE  91   92   93   90   91    94  95   93   96 \n34      SI  73   74   76   77   78   78   82   87   89 \n35      SK  71   75   78   78   79   81   81   81   82 \n36      TR    0  47   49   60   70   76   81   84   88 \n37      UK  83   87   88   90   91   93   94   95   96 \n38      XK    0    0    0    0    0    0  89   93   93 ",
      "text/html": "<div>\n<style scoped>\n    .dataframe tbody tr th:only-of-type {\n        vertical-align: middle;\n    }\n\n    .dataframe tbody tr th {\n        vertical-align: top;\n    }\n\n    .dataframe thead th {\n        text-align: right;\n    }\n</style>\n<table border=\"1\" class=\"dataframe\">\n  <thead>\n    <tr style=\"text-align: right;\">\n      <th></th>\n      <th>Country</th>\n      <th>2011</th>\n      <th>2012</th>\n      <th>2013</th>\n      <th>2014</th>\n      <th>2015</th>\n      <th>2016</th>\n      <th>2017</th>\n      <th>2018</th>\n      <th>2019</th>\n    </tr>\n  </thead>\n  <tbody>\n    <tr>\n      <th>0</th>\n      <td>AL</td>\n      <td>0</td>\n      <td>0</td>\n      <td>0</td>\n      <td>0</td>\n      <td>0</td>\n      <td>0</td>\n      <td>0</td>\n      <td>84</td>\n      <td>0</td>\n    </tr>\n    <tr>\n      <th>1</th>\n      <td>AT</td>\n      <td>75</td>\n      <td>79</td>\n      <td>81</td>\n      <td>81</td>\n      <td>82</td>\n      <td>85</td>\n      <td>89</td>\n      <td>89</td>\n      <td>90</td>\n    </tr>\n    <tr>\n      <th>2</th>\n      <td>BA</td>\n      <td>0</td>\n      <td>0</td>\n      <td>0</td>\n      <td>0</td>\n      <td>0</td>\n      <td>0</td>\n      <td>0</td>\n      <td>69</td>\n      <td>72</td>\n    </tr>\n    <tr>\n      <th>3</th>\n      <td>BE</td>\n      <td>77</td>\n      <td>78</td>\n      <td>80</td>\n      <td>83</td>\n      <td>82</td>\n      <td>85</td>\n      <td>86</td>\n      <td>87</td>\n      <td>90</td>\n    </tr>\n    <tr>\n      <th>4</th>\n      <td>BG</td>\n      <td>45</td>\n      <td>51</td>\n      <td>54</td>\n      <td>57</td>\n      <td>59</td>\n      <td>64</td>\n      <td>67</td>\n      <td>72</td>\n      <td>75</td>\n    </tr>\n    <tr>\n      <th>5</th>\n      <td>CH</td>\n      <td>0</td>\n      <td>0</td>\n      <td>0</td>\n      <td>91</td>\n      <td>0</td>\n      <td>0</td>\n      <td>93</td>\n      <td>0</td>\n      <td>96</td>\n    </tr>\n    <tr>\n      <th>6</th>\n      <td>CY</td>\n      <td>57</td>\n      <td>62</td>\n      <td>65</td>\n      <td>69</td>\n      <td>71</td>\n      <td>74</td>\n      <td>79</td>\n      <td>86</td>\n      <td>90</td>\n    </tr>\n    <tr>\n      <th>7</th>\n      <td>CZ</td>\n      <td>67</td>\n      <td>73</td>\n      <td>73</td>\n      <td>78</td>\n      <td>79</td>\n      <td>82</td>\n      <td>83</td>\n      <td>86</td>\n      <td>87</td>\n    </tr>\n    <tr>\n      <th>8</th>\n      <td>DE</td>\n      <td>83</td>\n      <td>85</td>\n      <td>88</td>\n      <td>89</td>\n      <td>90</td>\n      <td>92</td>\n      <td>93</td>\n      <td>94</td>\n      <td>95</td>\n    </tr>\n    <tr>\n      <th>9</th>\n      <td>DK</td>\n      <td>90</td>\n      <td>92</td>\n      <td>93</td>\n      <td>93</td>\n      <td>92</td>\n      <td>94</td>\n      <td>97</td>\n      <td>93</td>\n      <td>95</td>\n    </tr>\n    <tr>\n      <th>10</th>\n      <td>EA</td>\n      <td>74</td>\n      <td>76</td>\n      <td>79</td>\n      <td>81</td>\n      <td>83</td>\n      <td>85</td>\n      <td>87</td>\n      <td>89</td>\n      <td>90</td>\n    </tr>\n    <tr>\n      <th>11</th>\n      <td>EE</td>\n      <td>69</td>\n      <td>74</td>\n      <td>79</td>\n      <td>83</td>\n      <td>88</td>\n      <td>86</td>\n      <td>88</td>\n      <td>90</td>\n      <td>90</td>\n    </tr>\n    <tr>\n      <th>12</th>\n      <td>EL</td>\n      <td>50</td>\n      <td>54</td>\n      <td>56</td>\n      <td>66</td>\n      <td>68</td>\n      <td>69</td>\n      <td>71</td>\n      <td>76</td>\n      <td>79</td>\n    </tr>\n    <tr>\n      <th>13</th>\n      <td>ES</td>\n      <td>63</td>\n      <td>67</td>\n      <td>70</td>\n      <td>74</td>\n      <td>79</td>\n      <td>82</td>\n      <td>83</td>\n      <td>86</td>\n      <td>91</td>\n    </tr>\n    <tr>\n      <th>14</th>\n      <td>FI</td>\n      <td>84</td>\n      <td>87</td>\n      <td>89</td>\n      <td>90</td>\n      <td>90</td>\n      <td>92</td>\n      <td>94</td>\n      <td>94</td>\n      <td>94</td>\n    </tr>\n    <tr>\n      <th>15</th>\n      <td>FR</td>\n      <td>76</td>\n      <td>80</td>\n      <td>82</td>\n      <td>83</td>\n      <td>83</td>\n      <td>86</td>\n      <td>86</td>\n      <td>89</td>\n      <td>90</td>\n    </tr>\n    <tr>\n      <th>16</th>\n      <td>HR</td>\n      <td>61</td>\n      <td>66</td>\n      <td>65</td>\n      <td>68</td>\n      <td>77</td>\n      <td>77</td>\n      <td>76</td>\n      <td>82</td>\n      <td>81</td>\n    </tr>\n    <tr>\n      <th>17</th>\n      <td>HU</td>\n      <td>63</td>\n      <td>67</td>\n      <td>70</td>\n      <td>73</td>\n      <td>76</td>\n      <td>79</td>\n      <td>82</td>\n      <td>83</td>\n      <td>86</td>\n    </tr>\n    <tr>\n      <th>18</th>\n      <td>IE</td>\n      <td>78</td>\n      <td>81</td>\n      <td>82</td>\n      <td>82</td>\n      <td>85</td>\n      <td>87</td>\n      <td>88</td>\n      <td>89</td>\n      <td>91</td>\n    </tr>\n    <tr>\n      <th>19</th>\n      <td>IS</td>\n      <td>93</td>\n      <td>95</td>\n      <td>96</td>\n      <td>96</td>\n      <td>0</td>\n      <td>0</td>\n      <td>98</td>\n      <td>99</td>\n      <td>98</td>\n    </tr>\n    <tr>\n      <th>20</th>\n      <td>IT</td>\n      <td>62</td>\n      <td>63</td>\n      <td>69</td>\n      <td>73</td>\n      <td>75</td>\n      <td>79</td>\n      <td>81</td>\n      <td>84</td>\n      <td>85</td>\n    </tr>\n    <tr>\n      <th>21</th>\n      <td>LT</td>\n      <td>60</td>\n      <td>60</td>\n      <td>65</td>\n      <td>66</td>\n      <td>68</td>\n      <td>72</td>\n      <td>75</td>\n      <td>78</td>\n      <td>82</td>\n    </tr>\n    <tr>\n      <th>22</th>\n      <td>LU</td>\n      <td>91</td>\n      <td>93</td>\n      <td>94</td>\n      <td>96</td>\n      <td>97</td>\n      <td>97</td>\n      <td>97</td>\n      <td>93</td>\n      <td>95</td>\n    </tr>\n    <tr>\n      <th>23</th>\n      <td>LV</td>\n      <td>64</td>\n      <td>69</td>\n      <td>72</td>\n      <td>73</td>\n      <td>76</td>\n      <td>77</td>\n      <td>79</td>\n      <td>82</td>\n      <td>85</td>\n    </tr>\n    <tr>\n      <th>24</th>\n      <td>ME</td>\n      <td>0</td>\n      <td>55</td>\n      <td>0</td>\n      <td>0</td>\n      <td>0</td>\n      <td>0</td>\n      <td>71</td>\n      <td>72</td>\n      <td>74</td>\n    </tr>\n    <tr>\n      <th>25</th>\n      <td>MK</td>\n      <td>0</td>\n      <td>58</td>\n      <td>65</td>\n      <td>68</td>\n      <td>69</td>\n      <td>75</td>\n      <td>74</td>\n      <td>79</td>\n      <td>82</td>\n    </tr>\n    <tr>\n      <th>26</th>\n      <td>MT</td>\n      <td>75</td>\n      <td>77</td>\n      <td>78</td>\n      <td>80</td>\n      <td>81</td>\n      <td>81</td>\n      <td>85</td>\n      <td>84</td>\n      <td>86</td>\n    </tr>\n    <tr>\n      <th>27</th>\n      <td>NL</td>\n      <td>94</td>\n      <td>94</td>\n      <td>95</td>\n      <td>96</td>\n      <td>96</td>\n      <td>97</td>\n      <td>98</td>\n      <td>98</td>\n      <td>98</td>\n    </tr>\n    <tr>\n      <th>28</th>\n      <td>NO</td>\n      <td>92</td>\n      <td>93</td>\n      <td>94</td>\n      <td>93</td>\n      <td>97</td>\n      <td>97</td>\n      <td>97</td>\n      <td>96</td>\n      <td>98</td>\n    </tr>\n    <tr>\n      <th>29</th>\n      <td>PL</td>\n      <td>67</td>\n      <td>70</td>\n      <td>72</td>\n      <td>75</td>\n      <td>76</td>\n      <td>80</td>\n      <td>82</td>\n      <td>84</td>\n      <td>87</td>\n    </tr>\n    <tr>\n      <th>30</th>\n      <td>PT</td>\n      <td>58</td>\n      <td>61</td>\n      <td>62</td>\n      <td>65</td>\n      <td>70</td>\n      <td>74</td>\n      <td>77</td>\n      <td>79</td>\n      <td>81</td>\n    </tr>\n    <tr>\n      <th>31</th>\n      <td>RO</td>\n      <td>47</td>\n      <td>54</td>\n      <td>58</td>\n      <td>61</td>\n      <td>68</td>\n      <td>72</td>\n      <td>76</td>\n      <td>81</td>\n      <td>84</td>\n    </tr>\n    <tr>\n      <th>32</th>\n      <td>RS</td>\n      <td>0</td>\n      <td>0</td>\n      <td>0</td>\n      <td>0</td>\n      <td>64</td>\n      <td>0</td>\n      <td>68</td>\n      <td>73</td>\n      <td>80</td>\n    </tr>\n    <tr>\n      <th>33</th>\n      <td>SE</td>\n      <td>91</td>\n      <td>92</td>\n      <td>93</td>\n      <td>90</td>\n      <td>91</td>\n      <td>94</td>\n      <td>95</td>\n      <td>93</td>\n      <td>96</td>\n    </tr>\n    <tr>\n      <th>34</th>\n      <td>SI</td>\n      <td>73</td>\n      <td>74</td>\n      <td>76</td>\n      <td>77</td>\n      <td>78</td>\n      <td>78</td>\n      <td>82</td>\n      <td>87</td>\n      <td>89</td>\n    </tr>\n    <tr>\n      <th>35</th>\n      <td>SK</td>\n      <td>71</td>\n      <td>75</td>\n      <td>78</td>\n      <td>78</td>\n      <td>79</td>\n      <td>81</td>\n      <td>81</td>\n      <td>81</td>\n      <td>82</td>\n    </tr>\n    <tr>\n      <th>36</th>\n      <td>TR</td>\n      <td>0</td>\n      <td>47</td>\n      <td>49</td>\n      <td>60</td>\n      <td>70</td>\n      <td>76</td>\n      <td>81</td>\n      <td>84</td>\n      <td>88</td>\n    </tr>\n    <tr>\n      <th>37</th>\n      <td>UK</td>\n      <td>83</td>\n      <td>87</td>\n      <td>88</td>\n      <td>90</td>\n      <td>91</td>\n      <td>93</td>\n      <td>94</td>\n      <td>95</td>\n      <td>96</td>\n    </tr>\n    <tr>\n      <th>38</th>\n      <td>XK</td>\n      <td>0</td>\n      <td>0</td>\n      <td>0</td>\n      <td>0</td>\n      <td>0</td>\n      <td>0</td>\n      <td>89</td>\n      <td>93</td>\n      <td>93</td>\n    </tr>\n  </tbody>\n</table>\n</div>"
     },
     "execution_count": 44,
     "metadata": {},
     "output_type": "execute_result"
    }
   ],
   "source": [
    "df1 = pd.DataFrame(countries, columns=['Country'])\n",
    "df2 = pd.DataFrame(coverage, columns=years)\n",
    "df = pd.concat([df1, df2], axis=1)\n",
    "df.replace(': ', 0, inplace=True)\n",
    "df.replace(':', 0, inplace=True)\n",
    "df.replace('\\s[b]', '', inplace=True, regex=True)\n",
    "df"
   ],
   "metadata": {
    "collapsed": false,
    "pycharm": {
     "name": "#%%\n"
    }
   }
  },
  {
   "cell_type": "code",
   "execution_count": 7,
   "outputs": [
    {
     "data": {
      "text/plain": "       Country  2011  2012  2013  2014  2015  2016 2017 2018 2019\ncount       39    39    39    39    39    39    39   39   39   39\nunique      39    27    29    23    22    22    22   23   22   21\ntop         AL     0     0     0     0     0     0  81   84   90 \nfreq         1     8     5     6     5     6     7    3    5    6",
      "text/html": "<div>\n<style scoped>\n    .dataframe tbody tr th:only-of-type {\n        vertical-align: middle;\n    }\n\n    .dataframe tbody tr th {\n        vertical-align: top;\n    }\n\n    .dataframe thead th {\n        text-align: right;\n    }\n</style>\n<table border=\"1\" class=\"dataframe\">\n  <thead>\n    <tr style=\"text-align: right;\">\n      <th></th>\n      <th>Country</th>\n      <th>2011</th>\n      <th>2012</th>\n      <th>2013</th>\n      <th>2014</th>\n      <th>2015</th>\n      <th>2016</th>\n      <th>2017</th>\n      <th>2018</th>\n      <th>2019</th>\n    </tr>\n  </thead>\n  <tbody>\n    <tr>\n      <th>count</th>\n      <td>39</td>\n      <td>39</td>\n      <td>39</td>\n      <td>39</td>\n      <td>39</td>\n      <td>39</td>\n      <td>39</td>\n      <td>39</td>\n      <td>39</td>\n      <td>39</td>\n    </tr>\n    <tr>\n      <th>unique</th>\n      <td>39</td>\n      <td>27</td>\n      <td>29</td>\n      <td>23</td>\n      <td>22</td>\n      <td>22</td>\n      <td>22</td>\n      <td>23</td>\n      <td>22</td>\n      <td>21</td>\n    </tr>\n    <tr>\n      <th>top</th>\n      <td>AL</td>\n      <td>0</td>\n      <td>0</td>\n      <td>0</td>\n      <td>0</td>\n      <td>0</td>\n      <td>0</td>\n      <td>81</td>\n      <td>84</td>\n      <td>90</td>\n    </tr>\n    <tr>\n      <th>freq</th>\n      <td>1</td>\n      <td>8</td>\n      <td>5</td>\n      <td>6</td>\n      <td>5</td>\n      <td>6</td>\n      <td>7</td>\n      <td>3</td>\n      <td>5</td>\n      <td>6</td>\n    </tr>\n  </tbody>\n</table>\n</div>"
     },
     "execution_count": 7,
     "metadata": {},
     "output_type": "execute_result"
    }
   ],
   "source": [
    "df.describe()"
   ],
   "metadata": {
    "collapsed": false,
    "pycharm": {
     "name": "#%%\n"
    }
   }
  },
  {
   "cell_type": "code",
   "execution_count": 42,
   "outputs": [
    {
     "data": {
      "text/plain": "<Figure size 1440x360 with 1 Axes>",
      "image/png": "[encoded data removed]"
     },
     "metadata": {
      "needs_background": "light"
     },
     "output_type": "display_data"
    }
   ],
   "source": [
    "year = 2016\n",
    "plt.figure(figsize=(20, 5))\n",
    "plt.title(f'Coverage of the World in {year}')\n",
    "plt.scatter(df.Country, df[year])\n",
    "plt.xlabel('Country')\n",
    "plt.ylabel('Coverage')\n",
    "plt.show()"
   ],
   "metadata": {
    "collapsed": false,
    "pycharm": {
     "name": "#%%\n"
    }
   }
  },
  {
   "cell_type": "code",
   "execution_count": null,
   "outputs": [],
   "source": [],
   "metadata": {
    "collapsed": false,
    "pycharm": {
     "name": "#%%\n"
    }
   }
  }
 ],
 "metadata": {
  "kernelspec": {
   "display_name": "Python 3",
   "language": "python",
   "name": "python3"
  },
  "language_info": {
   "codemirror_mode": {
    "name": "ipython",
    "version": 2
   },
   "file_extension": ".py",
   "mimetype": "text/x-python",
   "name": "python",
   "nbconvert_exporter": "python",
   "pygments_lexer": "ipython2",
   "version": "2.7.6"
  }
 },
 "nbformat": 4,
 "nbformat_minor": 0
}